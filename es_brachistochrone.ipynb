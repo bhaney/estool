{
 "cells": [
  {
   "cell_type": "markdown",
   "metadata": {},
   "source": [
    "Simple example of using evolution strategies inside `es.py` for toy deterministic fitness function."
   ]
  },
  {
   "cell_type": "code",
   "execution_count": 1,
   "metadata": {},
   "outputs": [],
   "source": [
    "import numpy as np\n",
    "import scipy\n",
    "import sys\n",
    "import matplotlib.pyplot as plt\n",
    "import scipy.integrate as integrate\n",
    "import cma\n",
    "from es import SimpleGA, CMAES, PEPG, OpenES"
   ]
  },
  {
   "cell_type": "code",
   "execution_count": 2,
   "metadata": {},
   "outputs": [],
   "source": [
    "#constants\n",
    "XFINAL = 10.0\n",
    "YFINAL = -5.\n",
    "DIST = np.sqrt(XFINAL**2+YFINAL**2)\n",
    "g = -9.8 #m/s^2\n",
    "#k = 1\n",
    "K = 2.585999608432 #radius of the cycloid of the real brachistochrone. Gotten numerically from Mathematica\n",
    "TFINAL = 3.50837   #final angle of the cycloid of the real brachistochrone. Gotten numerically from Mathematica\n",
    "#FindRoot[Evaluate[{a*(t - Sin[t]) == XFINAL, a*(1 - Cos[t]) == YFINAL}], {a, 5}, {t, 3.2}, MaxIterations -> 1000]"
   ]
  },
  {
   "cell_type": "markdown",
   "metadata": {},
   "source": [
    "The equation of a cycloid is\n",
    "$$ \\left(\\frac{dy}{dx}\\right)^2 = \\frac{2k-y}{y} $$\n",
    "Cycloids cannot be expressed in closed form, but can be expressed in parametric form. \n",
    "$$ x = k(\\theta-\\sin\\theta) $$\n",
    "$$ y = k(1-\\cos\\theta) $$\n",
    "You can get the fourier coeffcients in a series expansion\n",
    "$$ a_n = \\frac{1}{2\\pi k} \\int_{-2\\pi k}^{2\\pi k} y(x)cos(\\frac{nx}{2 k}) dx $$\n",
    "$$ b_n = \\frac{1}{2\\pi k} \\int_{-2\\pi k}^{2\\pi k} y(x)sin(\\frac{nx}{2 k}) dx $$\n",
    "\n",
    "Change all the variables to $\\theta$:\n",
    "\n",
    "$$ a_n = \\frac{k}{2\\pi} \\int_{-2\\pi}^{2\\pi}(1-\\cos{\\theta})^2 \\cos(\\frac{n}{2} (\\theta-\\sin{\\theta})) d\\theta $$\n",
    "$$ b_n = \\frac{k}{2\\pi} \\int_{-2\\pi}^{2\\pi}(1-\\cos{\\theta})^2 \\sin(\\frac{n}{2} (\\theta-\\sin{\\theta})) d\\theta = 0 $$ \n",
    "\n",
    "All the $b_n$ will be zero because the cycloid is an even function.\n",
    "\n",
    "We can then find the coeffcients and plug them into the \n",
    " "
   ]
  },
  {
   "cell_type": "code",
   "execution_count": 3,
   "metadata": {},
   "outputs": [],
   "source": [
    "def cycloid_coefficients(n,r):\n",
    "    # n is number of sine coefficients and n+1 the number of cosine coeffcieints. \n",
    "    # change of variables to theta is necessary since cannot write in terms of y(x).\n",
    "    # sine terms are all 0. cosine terms are non-zero.\n",
    "    coefs = [0]*(2*n+1)\n",
    "    def cos_coef(c,theta):\n",
    "        return ((1-np.cos(theta))**2)*(np.cos((c/2.)*(theta-np.sin(theta))))\n",
    "    def sin_coef(c,theta):\n",
    "        return ((1-np.cos(theta))**2)*(np.sin((c/2.)*(theta-np.sin(theta))))\n",
    "    for i in range(n):\n",
    "        coefs[2*i] = -1.0*(r/(2.*np.pi))*integrate.quad(lambda x: cos_coef(i,x),-2*np.pi,2*np.pi,limit=200)[0]\n",
    "        coefs[2*i+1] = 0\n",
    "    coefs[0] = coefs[0]/2.0\n",
    "    coefs[2*n] = -1.0*(r/(2.*np.pi))*integrate.quad(lambda x: cos_coef(n,x),-2*np.pi,2*np.pi,limit=200)[0]\n",
    "    return np.array(coefs)\n",
    "\n",
    "def line_coefficients(n,r):\n",
    "    # n is number of sine coefficients and n+1 the number of cosine coeffcieints.\n",
    "    # The line starts at (0,0) and ends at (XFINAL,YFINAL)\n",
    "    # all Cosine terms are 0. Sine terms non-zero\n",
    "    coefs = [0.0]*(2*n+1)\n",
    "    def cos_coef(c,theta):\n",
    "        return (YFINAL*theta/XFINAL)*(np.cos(c*theta/(2.*r)))\n",
    "    def sin_coef(c,theta):\n",
    "        return (YFINAL*theta/XFINAL)*(np.sin(c*theta/(2.*r)))\n",
    "    for i in range(n):\n",
    "        coefs[2*i] = 0.0\n",
    "        coefs[2*i+1] = (1.0/(2.*np.pi*r))*integrate.quad(lambda x: sin_coef(i+1,x),-2*np.pi*r,2*np.pi*r,limit=200)[0]\n",
    "    return np.array(coefs)"
   ]
  },
  {
   "cell_type": "code",
   "execution_count": 4,
   "metadata": {},
   "outputs": [],
   "source": [
    "def f(c_list,x):\n",
    "    # Given a list of coefficients c_list, f(x) is the fourier expansion \n",
    "    # f(x) = a0 + sum(an*cos(nx) + bn*sin(nx))\n",
    "    # even entries in c_list are the a_n, odd entries are the b_n. c_list should always have len(c_list) = odd.\n",
    "    a = c_list[::2]\n",
    "    b = c_list[1::2]\n",
    "    cosines = np.array([np.cos(x*n/(2.*k)) for n in range(len(a))])\n",
    "    sines = np.array([np.sin(x*n/(2.*k)) for n in range(1,len(b)+1)])\n",
    "    result = (np.dot(a,cosines)+np.dot(b,sines))\n",
    "    # the result cannot have f(x) > 0 due to conservation of energy\n",
    "    if np.isscalar(result):\n",
    "        return result if result < 0 else -0.00001\n",
    "    return np.array([i if i < 0 else -0.00001 for i in result])\n",
    "\n",
    "def fp(c_list,x):\n",
    "    #derivative of the function f(x)\n",
    "    #f' = sum(n*bn*cos(nx)-n*an*sin(nx))\n",
    "    a = c_list[::2]\n",
    "    b = c_list[1::2]\n",
    "    cosines = np.array([(n/(2.*k))*np.cos(x*n/(2.*k)) for n in range(1,len(b)+1)])\n",
    "    sines = np.array([-(n/(2.*k))*np.sin(x*n/(2.*k)) for n in range(1,len(a))])\n",
    "    result = np.dot(a[1:],sines)+np.dot(b,cosines)\n",
    "    return result"
   ]
  },
  {
   "cell_type": "code",
   "execution_count": 5,
   "metadata": {},
   "outputs": [],
   "source": [
    "def delta_time(c_list):\n",
    "    c_list = np.copy(c_list)\n",
    "    def cost(x):\n",
    "        #equation gotten from conservation of energy\n",
    "        #due to conservation of energy, values of f(x) > 0 are impossible.\n",
    "        #they will create a negative inside the sqrt and return an NaN\n",
    "        return np.sqrt((1+fp(c_list,x)**2)/(2.0*g*f(c_list,x)))\n",
    "    time = integrate.quad(cost,0.0001,XFINAL,limit=200)[0] #don't start integration from zero-- messes up integrator.\n",
    "    #we also want to constrain the path to begin at (0,0) and end at (XFINAL,YFINAL)\n",
    "    begin_penalty = (f(c_list,0.0001)-(-0.00001))**2\n",
    "    end_penalty = (f(c_list,XFINAL)-YFINAL)**2\n",
    "    return -1.*time-begin_penalty-end_penalty\n",
    "\n",
    "fit_func = delta_time "
   ]
  },
  {
   "cell_type": "code",
   "execution_count": 7,
   "metadata": {},
   "outputs": [
    {
     "data": {
      "image/png": "[encoded data removed]",
      "text/plain": [
       "<matplotlib.figure.Figure at 0x10fac0390>"
      ]
     },
     "metadata": {},
     "output_type": "display_data"
    },
    {
     "name": "stdout",
     "output_type": "stream",
     "text": [
      "OPTMAL:\n",
      "  fitness: -1.67800911006\n",
      "  distance at x=0: 0.36325077214527934 distance at x=XFINAL: 0.004722838088501824\n",
      "  penalty at x=0: 0.047931347483786545 penalty at x=XFINAL: 1.0534384629070542e-07\n",
      "LINE:\n",
      "  fitness: -17.7652907923\n",
      "  distance at x=0: 0.0 distance at x=XFINAL: 0.02370058213363979\n",
      "  penalty at x=0: 0.0 penalty at x=XFINAL: 1.3313033960026939e-05\n",
      "RANDOM:\n",
      "  fitness: -10156.222104941027\n",
      "  distance at x=0: 0.0 distance at x=XFINAL: 4.99999\n",
      "  penalty at x=0: 0.0 penalty at x=XFINAL: 124.99925000150003\n"
     ]
    },
    {
     "name": "stderr",
     "output_type": "stream",
     "text": [
      "/usr/local/lib/python3.6/site-packages/scipy/integrate/quadpack.py:364: IntegrationWarning: The maximum number of subdivisions (200) has been achieved.\n",
      "  If increasing the limit yields no improvement it is advised to analyze \n",
      "  the integrand in order to determine the difficulties.  If the position of a \n",
      "  local difficulty can be determined (singularity, discontinuity) one will \n",
      "  probably gain from splitting up the interval and calling the integrator \n",
      "  on the subranges.  Perhaps a special-purpose integrator should be used.\n",
      "  warnings.warn(msg, IntegrationWarning)\n"
     ]
    }
   ],
   "source": [
    "%matplotlib inline\n",
    "import math\n",
    "\n",
    "xaxis = np.linspace(0, XFINAL, 1000)\n",
    "\n",
    "optimal_coefs = cycloid_coefficients(50,k)\n",
    "line_coefs = line_coefficients(50,k)\n",
    "rand_coefs = np.random.randn(101)\n",
    "\n",
    "yaxis_opt = f(optimal_coefs,xaxis)\n",
    "yaxis_line = f(line_coefs,xaxis)\n",
    "yaxis_rand = f(rand_coefs,xaxis)\n",
    "ypaxis_opt = fp(optimal_coefs,xaxis)\n",
    "ypaxis_line = fp(line_coefs,xaxis)\n",
    "ypaxis_rand = fp(rand_coefs,xaxis)\n",
    "plt.plot(xaxis, yaxis_opt, \"r\")\n",
    "#plt.plot(xaxis, ypaxis_opt, \"r+\")\n",
    "plt.plot(xaxis, yaxis_line, \"b\")\n",
    "#plt.plot(xaxis, ypaxis_line, \"b+\")\n",
    "plt.plot(xaxis, yaxis_rand, \"g\")\n",
    "#plt.plot(xaxis, ypaxis_rand, \"g+\")\n",
    "plt.show()\n",
    "\n",
    "def dist_penalty(yax):\n",
    "    begin_dist = math.fabs(yax[0]-(-0.00001))\n",
    "    end_dist = math.fabs(yax[-1]-(YFINAL))\n",
    "    begin_penalty = begin_dist**3\n",
    "    end_penalty = end_dist**3\n",
    "    print('  distance from x=0:',begin_dist,'distance from x=XFINAL:',end_dist)\n",
    "    print('  penalty at x=0:',begin_penalty,'penalty at x=XFINAL:',end_penalty)\n",
    "\n",
    "print('OPTMAL:')\n",
    "print('  fitness:',delta_time(optimal_coefs))\n",
    "dist_penalty(yaxis_opt)\n",
    "print('LINE:')\n",
    "print('  fitness:',delta_time(line_coefs))\n",
    "dist_penalty(yaxis_line)\n",
    "print('RANDOM:')\n",
    "print('  fitness:',delta_time(rand_coefs))\n",
    "dist_penalty(yaxis_rand)"
   ]
  },
  {
   "cell_type": "code",
   "execution_count": 15,
   "metadata": {},
   "outputs": [],
   "source": [
    "NPARAMS = 101     # make this a 101-dimensinal problem.\n",
    "NPOPULATION = 50    # use population size of 50.\n",
    "MAX_ITERATION = 100 # run each solver for 1000 generations."
   ]
  },
  {
   "cell_type": "code",
   "execution_count": 16,
   "metadata": {},
   "outputs": [],
   "source": [
    "# defines a function to use solver to solve fit_func\n",
    "def test_solver(solver):\n",
    "    history = []\n",
    "    for j in range(MAX_ITERATION):\n",
    "        solutions = solver.ask()\n",
    "        fitness_list = np.zeros(solver.popsize)\n",
    "        for i in range(solver.popsize):\n",
    "            fitness_list[i] = fit_func(solutions[i])\n",
    "        solver.tell(fitness_list)\n",
    "        result = solver.result() # first element is the best solution, second element is the best fitness\n",
    "        history.append((result[0],result[1]))\n",
    "        if (j+1) % 2 == 0:\n",
    "            print(\"fitness at iteration\", (j+1), result[1])\n",
    "    print(\"local optimum discovered by solver:\\n\", result[0])\n",
    "    print(\"fitness score at this local optimum:\", result[1])\n",
    "    return history"
   ]
  },
  {
   "cell_type": "code",
   "execution_count": 17,
   "metadata": {},
   "outputs": [
    {
     "name": "stdout",
     "output_type": "stream",
     "text": [
      "These are the 101 fourier coefficients for the optimal cycloid:\n",
      "[ -3.87899941e+00   0.00000000e+00   8.33211591e-17   0.00000000e+00\n",
      "   1.68166055e+00   0.00000000e+00   1.04256913e-15   0.00000000e+00\n",
      "   5.78981467e-01   0.00000000e+00  -3.53577810e-16   0.00000000e+00\n",
      "   3.05197154e-01   0.00000000e+00   6.49041441e-17   0.00000000e+00\n",
      "   1.92711806e-01   0.00000000e+00   9.38778169e-16   0.00000000e+00\n",
      "   1.34566952e-01   0.00000000e+00   1.95492020e-15   0.00000000e+00\n",
      "   1.00207667e-01   0.00000000e+00  -1.38327890e-15   0.00000000e+00\n",
      "   7.80329338e-02   0.00000000e+00   6.38569319e-15   0.00000000e+00\n",
      "   6.27971807e-02   0.00000000e+00  -1.20578029e-15   0.00000000e+00\n",
      "   5.18271616e-02   0.00000000e+00  -1.70252705e-15   0.00000000e+00\n",
      "   4.36359395e-02   0.00000000e+00   5.29695126e-15   0.00000000e+00\n",
      "   3.73391170e-02   0.00000000e+00   3.25435209e-15   0.00000000e+00\n",
      "   3.23820163e-02   0.00000000e+00  -3.80120063e-15   0.00000000e+00\n",
      "   2.84014367e-02   0.00000000e+00   1.32800866e-14   0.00000000e+00\n",
      "   2.51509075e-02   0.00000000e+00  -5.04299998e-15   0.00000000e+00\n",
      "   2.24580602e-02   0.00000000e+00   6.21883160e-15   0.00000000e+00\n",
      "   2.01992069e-02   0.00000000e+00  -6.23113382e-15   0.00000000e+00\n",
      "   1.82835954e-02   0.00000000e+00  -9.84335306e-15   0.00000000e+00\n",
      "   1.66433317e-02   0.00000000e+00  -4.53614446e-17   0.00000000e+00\n",
      "   1.52267458e-02   0.00000000e+00   1.55874697e-14   0.00000000e+00\n",
      "   1.39939118e-02   0.00000000e+00  -2.66316309e-14   0.00000000e+00\n",
      "   1.29135565e-02   0.00000000e+00   3.95592061e-15   0.00000000e+00\n",
      "   1.19608829e-02   0.00000000e+00  -8.02898588e-16   0.00000000e+00\n",
      "   1.11160103e-02   0.00000000e+00  -2.90751421e-15   0.00000000e+00\n",
      "   1.03628388e-02   0.00000000e+00   1.91235403e-15   0.00000000e+00\n",
      "   9.68821016e-03]\n"
     ]
    },
    {
     "data": {
      "image/png": "[encoded data removed]",
      "text/plain": [
       "<matplotlib.figure.Figure at 0x10ff94e80>"
      ]
     },
     "metadata": {},
     "output_type": "display_data"
    },
    {
     "name": "stdout",
     "output_type": "stream",
     "text": [
      "delta time: 1.67800911006\n"
     ]
    }
   ],
   "source": [
    "x = optimal_coefs\n",
    "print(\"These are the\",len(x),\"fourier coefficients for the optimal cycloid:\")\n",
    "print(x)\n",
    "yaxis = f(x,xaxis)\n",
    "plt.plot(xaxis, yaxis, \"r\")\n",
    "plt.show()\n",
    "print('delta time:',-delta_time(x))"
   ]
  },
  {
   "cell_type": "code",
   "execution_count": 18,
   "metadata": {},
   "outputs": [
    {
     "name": "stdout",
     "output_type": "stream",
     "text": [
      "These are the 101 fourier coefficients for starting with a line:\n",
      "[ 0.         -5.17199922  0.          2.58599961  0.         -1.72399974\n",
      "  0.          1.2929998   0.         -1.03439984  0.          0.86199987\n",
      "  0.         -0.73885703  0.          0.6464999   0.         -0.57466658\n",
      "  0.          0.51719992  0.         -0.47018175  0.          0.43099993\n",
      "  0.         -0.39784609  0.          0.36942852  0.         -0.34479995\n",
      "  0.          0.32324995  0.         -0.30423525  0.          0.28733329\n",
      "  0.         -0.27221049  0.          0.25859996  0.         -0.24628568\n",
      "  0.          0.23509087  0.         -0.22486953  0.          0.21549997\n",
      "  0.         -0.20687997  0.          0.19892305  0.         -0.19155553\n",
      "  0.          0.18471426  0.         -0.1783448   0.          0.17239997\n",
      "  0.         -0.16683868  0.          0.16162498  0.         -0.15672725\n",
      "  0.          0.15211762  0.         -0.14777141  0.          0.14366664\n",
      "  0.         -0.13978376  0.          0.13610524  0.         -0.13261536\n",
      "  0.          0.12929998  0.         -0.12614632  0.          0.12314284\n",
      "  0.         -0.12027905  0.          0.11754544  0.         -0.11493332\n",
      "  0.          0.11243477  0.         -0.11004254  0.          0.10774998\n",
      "  0.         -0.105551    0.          0.10343998  0.        ]\n"
     ]
    },
    {
     "data": {
      "image/png": "[encoded data removed]",
      "text/plain": [
       "<matplotlib.figure.Figure at 0x1105fdc88>"
      ]
     },
     "metadata": {},
     "output_type": "display_data"
    },
    {
     "name": "stdout",
     "output_type": "stream",
     "text": [
      "delta time: 17.7652907923\n"
     ]
    }
   ],
   "source": [
    "x = line_coefs\n",
    "print(\"These are the\",len(x),\"fourier coefficients for starting with a line:\")\n",
    "print(x)\n",
    "yaxis = f(x,xaxis)\n",
    "plt.plot(xaxis, yaxis, \"r\")\n",
    "plt.show()\n",
    "print('delta time:',-delta_time(x))"
   ]
  },
  {
   "cell_type": "code",
   "execution_count": null,
   "metadata": {},
   "outputs": [],
   "source": [
    "# defines genetic algorithm solver\n",
    "ga = SimpleGA(NPARAMS,                # number of model parameters\n",
    "               sigma_init=0.5,        # initial standard deviation\n",
    "               popsize=NPOPULATION,   # population size\n",
    "               elite_ratio=0.1,       # percentage of the elites\n",
    "               forget_best=False,     # forget the historical best elites\n",
    "               weight_decay=0.00,     # weight decay coefficient\n",
    "              )"
   ]
  },
  {
   "cell_type": "code",
   "execution_count": null,
   "metadata": {
    "scrolled": true
   },
   "outputs": [],
   "source": [
    "ga_history = test_solver(ga)"
   ]
  },
  {
   "cell_type": "code",
   "execution_count": 19,
   "metadata": {},
   "outputs": [
    {
     "name": "stdout",
     "output_type": "stream",
     "text": [
      "(25_w,50)-aCMA-ES (mu_w=14.0,w_1=14%) in dimension 101 (seed=276731, Wed Sep  5 18:44:11 2018)\n"
     ]
    }
   ],
   "source": [
    "# defines CMA-ES algorithm solver\n",
    "cmaes = CMAES(NPARAMS,\n",
    "              popsize=NPOPULATION,\n",
    "              weight_decay=0.0,\n",
    "              sigma_init = 0.05\n",
    "          )"
   ]
  },
  {
   "cell_type": "code",
   "execution_count": null,
   "metadata": {},
   "outputs": [
    {
     "name": "stderr",
     "output_type": "stream",
     "text": [
      "/usr/local/lib/python3.6/site-packages/scipy/integrate/quadpack.py:364: IntegrationWarning: The maximum number of subdivisions (200) has been achieved.\n",
      "  If increasing the limit yields no improvement it is advised to analyze \n",
      "  the integrand in order to determine the difficulties.  If the position of a \n",
      "  local difficulty can be determined (singularity, discontinuity) one will \n",
      "  probably gain from splitting up the interval and calling the integrator \n",
      "  on the subranges.  Perhaps a special-purpose integrator should be used.\n",
      "  warnings.warn(msg, IntegrationWarning)\n"
     ]
    },
    {
     "name": "stdout",
     "output_type": "stream",
     "text": [
      "fitness at iteration 2 -363.5763643648625\n",
      "fitness at iteration 4 -169.57712299724636\n",
      "fitness at iteration 6 -120.08261269170839\n",
      "fitness at iteration 8 -36.735001018453225\n"
     ]
    }
   ],
   "source": [
    "cma_history = test_solver(cmaes)\n"
   ]
  },
  {
   "cell_type": "code",
   "execution_count": null,
   "metadata": {},
   "outputs": [],
   "source": [
    "x = [-1.29036542, -0.62896731, -0.63294334, -0.60527331, -0.14701905,  0.25665035,\n",
    " -0.13045431,  0.26704472, -0.26891076, -0.15870245,  0.05435706, -0.06045987,\n",
    "  0.07657396,  0.07607268, -0.23299025, -0.01144153,  0.02903827,  0.02299654,\n",
    "  0.09933435,  0.06244944, -0.05982582, -0.13206807,  0.09358589,  0.02678654,\n",
    "  0.00486741, -0.25947983,  0.04774933, -0.07890868, -0.12154341,  0.02266455,\n",
    " -0.02032519,  0.16915864,  0.07331226, -0.18020797, -0.02328137,  0.0603857,\n",
    " -0.11221066, -0.09890188,  0.00446266, -0.01555902, -0.29934881,  0.17894661,\n",
    " -0.05831651,  0.07701741,  0.03371479,  0.18500557, -0.01014909, -0.18913945,\n",
    " -0.0962447,   0.52413548, -0.18132617,  0.01423729,  0.25842228, -0.05110348,\n",
    "  0.07742499,  0.13401056, -0.15829474,  0.04285918,  0.34400224, -0.23677707,\n",
    " -0.22129372,  0.13702365, -0.0594799,   0.18952237,  0.0914457,  -0.03144436,\n",
    "  0.00157056,  0.24221882,  0.15308777,  0.04845059,  0.2153165,  -0.24238401,\n",
    "  0.24121954,  0.01216627, -0.06689987, -0.16477422,  0.3130532,  -0.28739197,\n",
    " -0.13205555, -0.12809294, -0.02251622, -0.06776406, -0.22349353,  0.14377631,\n",
    "  0.00802508, -0.11824727, -0.0263068,   0.04247671,  0.11445536, -0.10857525,\n",
    " -0.23131561,  0.02237699,  0.02945924,  0.09478949, -0.05308294, -0.13201993,\n",
    "  0.0084653,   0.20703085, -0.05692335, -0.04486629,  0.09116252]\n",
    "print(delta_time(x))\n",
    "yaxis = f(x,xaxis)\n",
    "ypaxis = fp(x,xaxis)\n",
    "plt.plot(xaxis, yaxis, \"r\")\n",
    "#plt.plot(xaxis, ypaxis, \"b\")\n",
    "plt.show()"
   ]
  },
  {
   "cell_type": "code",
   "execution_count": null,
   "metadata": {},
   "outputs": [],
   "source": [
    "# defines PEPG (NES) solver\n",
    "pepg = PEPG(NPARAMS,                         # number of model parameters\n",
    "            sigma_init=0.5,                  # initial standard deviation\n",
    "            learning_rate=0.1,               # learning rate for standard deviation\n",
    "            learning_rate_decay=1.0,       # don't anneal the learning rate\n",
    "            popsize=NPOPULATION,             # population size\n",
    "            average_baseline=False,          # set baseline to average of batch\n",
    "            weight_decay=0.00,            # weight decay coefficient\n",
    "            rank_fitness=False,           # use rank rather than fitness numbers\n",
    "            forget_best=False)            # don't keep the historical best solution)"
   ]
  },
  {
   "cell_type": "code",
   "execution_count": null,
   "metadata": {},
   "outputs": [],
   "source": [
    "pepg_history = test_solver(pepg)"
   ]
  },
  {
   "cell_type": "code",
   "execution_count": null,
   "metadata": {},
   "outputs": [],
   "source": [
    "# defines OpenAI's ES algorithm solver. Note that we needed to anneal the sigma parameter\n",
    "oes = OpenES(NPARAMS,                  # number of model parameters\n",
    "            sigma_init=0.5,            # initial standard deviation\n",
    "            sigma_decay=0.999,         # don't anneal standard deviation\n",
    "            learning_rate=0.1,         # learning rate for standard deviation\n",
    "            learning_rate_decay = 1.0, # annealing the learning rate\n",
    "            popsize=NPOPULATION,       # population size\n",
    "            antithetic=False,          # whether to use antithetic sampling\n",
    "            weight_decay=0.00,         # weight decay coefficient\n",
    "            rank_fitness=False,        # use rank rather than fitness numbers\n",
    "            forget_best=False)"
   ]
  },
  {
   "cell_type": "code",
   "execution_count": null,
   "metadata": {},
   "outputs": [],
   "source": [
    "oes_history = test_solver(oes)"
   ]
  },
  {
   "cell_type": "code",
   "execution_count": null,
   "metadata": {},
   "outputs": [],
   "source": [
    "# defines OpenAI's ES algorithm solver. Note that we needed to anneal the sigma parameter\n",
    "# this version turns on antithetic sampling. It doesn't really help, and sometimes hurts performance.\n",
    "oes_antithetic = OpenES(NPARAMS,            # number of model parameters\n",
    "                 sigma_init=0.5,            # initial standard deviation\n",
    "                 sigma_decay=0.999,         # don't anneal standard deviation\n",
    "                 learning_rate=0.1,         # learning rate for standard deviation\n",
    "                 learning_rate_decay=1.0,   # annealing the learning rate\n",
    "                 popsize=NPOPULATION+1,     # population size\n",
    "                 antithetic=True,           # whether to use antithetic sampling\n",
    "                 weight_decay=0.00,         # weight decay coefficient\n",
    "                 rank_fitness=False,        # use rank rather than fitness numbers\n",
    "                 forget_best=False)"
   ]
  },
  {
   "cell_type": "code",
   "execution_count": null,
   "metadata": {},
   "outputs": [],
   "source": [
    "oes_antithetic_history = test_solver(oes_antithetic)"
   ]
  },
  {
   "cell_type": "code",
   "execution_count": null,
   "metadata": {},
   "outputs": [],
   "source": [
    "# Create a new figure of size 8x6 points, using 100 dots per inch\n",
    "best_history = [0] * MAX_ITERATION\n",
    "plt.figure(figsize=(16,8), dpi=150)\n",
    "\n",
    "optimum_line, = plt.plot(best_history, color=\"black\", linewidth=0.5, linestyle=\"-.\", label='Global Optimum')\n",
    "ga_line, = plt.plot(ga_history, color=\"green\", linewidth=1.0, linestyle=\"-\", label='GA')\n",
    "oes_line, = plt.plot(oes_history, color=\"orange\", linewidth=1.0, linestyle=\"-\", label='OpenAI-ES')\n",
    "pepg_line, = plt.plot(pepg_history, color=\"blue\", linewidth=1.0, linestyle=\"-\", label='PEPG / NES')\n",
    "cma_line, = plt.plot(cma_history, color=\"red\", linewidth=1.0, linestyle=\"-\", label='CMA-ES')\n",
    "\n",
    "plt.legend(handles=[optimum_line, ga_line, cma_line, pepg_line, oes_line], loc=4)\n",
    "\n",
    "# Set x limits\n",
    "plt.xlim(0,2500)\n",
    "\n",
    "plt.xlabel('generation')\n",
    "plt.ylabel('fitness')\n",
    "\n",
    "# plt.savefig(\"./rastrigin_10d.svg\")\n",
    "\n",
    "plt.show()"
   ]
  },
  {
   "cell_type": "code",
   "execution_count": null,
   "metadata": {},
   "outputs": [],
   "source": []
  }
 ],
 "metadata": {
  "kernelspec": {
   "display_name": "Python 3",
   "language": "python",
   "name": "python3"
  },
  "language_info": {
   "codemirror_mode": {
    "name": "ipython",
    "version": 3
   },
   "file_extension": ".py",
   "mimetype": "text/x-python",
   "name": "python",
   "nbconvert_exporter": "python",
   "pygments_lexer": "ipython3",
   "version": "3.6.5"
  },
  "toc": {
   "base_numbering": 1,
   "nav_menu": {},
   "number_sections": true,
   "sideBar": true,
   "skip_h1_title": false,
   "title_cell": "Table of Contents",
   "title_sidebar": "Contents",
   "toc_cell": false,
   "toc_position": {},
   "toc_section_display": true,
   "toc_window_display": false
  }
 },
 "nbformat": 4,
 "nbformat_minor": 2
}
