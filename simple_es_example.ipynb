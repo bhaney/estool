{
 "cells": [
  {
   "cell_type": "markdown",
   "metadata": {},
   "source": [
    "Simple example of using evolution strategies inside `es.py` for toy deterministic fitness function."
   ]
  },
  {
   "cell_type": "code",
   "execution_count": 1,
   "metadata": {},
   "outputs": [],
   "source": [
    "import numpy as np\n",
    "import matplotlib.pyplot as plt\n",
    "import cma\n",
    "from es import SimpleGA, CMAES, PEPG, OpenES"
   ]
  },
  {
   "cell_type": "code",
   "execution_count": 2,
   "metadata": {},
   "outputs": [],
   "source": [
    "# from https://github.com/CMA-ES/pycma/blob/master/cma/fitness_functions.py\n",
    "def rastrigin(x):\n",
    "    \"\"\"Rastrigin test objective function, shifted by 10. units away from origin\"\"\"\n",
    "    x = np.copy(x)\n",
    "    x -= 10.0\n",
    "    if not np.isscalar(x[0]):\n",
    "        N = len(x[0])\n",
    "        return -np.array([10 * N + sum(xi**2 - 10 * np.cos(2 * np.pi * xi)) for xi in x])\n",
    "    N = len(x)\n",
    "    return -(10 * N + sum(x**2 - 10 * np.cos(2 * np.pi * x)))\n",
    "\n",
    "fit_func = rastrigin"
   ]
  },
  {
   "cell_type": "code",
   "execution_count": 3,
   "metadata": {},
   "outputs": [],
   "source": [
    "NPARAMS = 100        # make this a 100-dimensinal problem.\n",
    "NPOPULATION = 101    # use population size of 101.\n",
    "MAX_ITERATION = 4000 # run each solver for 5000 generations."
   ]
  },
  {
   "cell_type": "code",
   "execution_count": 4,
   "metadata": {},
   "outputs": [],
   "source": [
    "# defines a function to use solver to solve fit_func\n",
    "def test_solver(solver):\n",
    "    history = []\n",
    "    for j in range(MAX_ITERATION):\n",
    "        solutions = solver.ask()\n",
    "        fitness_list = np.zeros(solver.popsize)\n",
    "        for i in range(solver.popsize):\n",
    "            fitness_list[i] = fit_func(solutions[i])\n",
    "        solver.tell(fitness_list)\n",
    "        result = solver.result() # first element is the best solution, second element is the best fitness\n",
    "        history.append(result[1])\n",
    "        if (j+1) % 100 == 0:\n",
    "            print(\"fitness at iteration\", (j+1), result[1])\n",
    "    print(\"local optimum discovered by solver:\\n\", result[0])\n",
    "    print(\"fitness score at this local optimum:\", result[1])\n",
    "    return history"
   ]
  },
  {
   "cell_type": "code",
   "execution_count": 5,
   "metadata": {},
   "outputs": [
    {
     "name": "stdout",
     "output_type": "stream",
     "text": [
      "This is F(0):\n",
      "-10000.0\n"
     ]
    }
   ],
   "source": [
    "x = np.zeros(NPARAMS) # 100-dimensional problem\n",
    "print(\"This is F(0):\")\n",
    "print(rastrigin(x))"
   ]
  },
  {
   "cell_type": "code",
   "execution_count": 6,
   "metadata": {},
   "outputs": [
    {
     "name": "stdout",
     "output_type": "stream",
     "text": [
      "-0.0\n",
      "global optimum point:\n",
      " [ 10.  10.  10.  10.  10.  10.  10.  10.  10.  10.  10.  10.  10.  10.  10.\n",
      "  10.  10.  10.  10.  10.  10.  10.  10.  10.  10.  10.  10.  10.  10.  10.\n",
      "  10.  10.  10.  10.  10.  10.  10.  10.  10.  10.  10.  10.  10.  10.  10.\n",
      "  10.  10.  10.  10.  10.  10.  10.  10.  10.  10.  10.  10.  10.  10.  10.\n",
      "  10.  10.  10.  10.  10.  10.  10.  10.  10.  10.  10.  10.  10.  10.  10.\n",
      "  10.  10.  10.  10.  10.  10.  10.  10.  10.  10.  10.  10.  10.  10.  10.\n",
      "  10.  10.  10.  10.  10.  10.  10.  10.  10.  10.]\n"
     ]
    }
   ],
   "source": [
    "x = np.ones(NPARAMS)*10. # 100-dimensional problem\n",
    "print(rastrigin(x))\n",
    "print(\"global optimum point:\\n\", x)"
   ]
  },
  {
   "cell_type": "code",
   "execution_count": 7,
   "metadata": {},
   "outputs": [],
   "source": [
    "# defines genetic algorithm solver\n",
    "ga = SimpleGA(NPARAMS,                # number of model parameters\n",
    "               sigma_init=0.5,        # initial standard deviation\n",
    "               popsize=NPOPULATION,   # population size\n",
    "               elite_ratio=0.1,       # percentage of the elites\n",
    "               forget_best=False,     # forget the historical best elites\n",
    "               weight_decay=0.00,     # weight decay coefficient\n",
    "              )"
   ]
  },
  {
   "cell_type": "code",
   "execution_count": 8,
   "metadata": {},
   "outputs": [
    {
     "name": "stdout",
     "output_type": "stream",
     "text": [
      "fitness at iteration 100 -1135.25076943\n",
      "fitness at iteration 200 -968.111229243\n",
      "fitness at iteration 300 -955.78797871\n",
      "fitness at iteration 400 -920.327139724\n",
      "fitness at iteration 500 -920.327139724\n",
      "fitness at iteration 600 -910.553812306\n",
      "fitness at iteration 700 -889.68806569\n",
      "fitness at iteration 800 -852.255322754\n",
      "fitness at iteration 900 -852.255322754\n",
      "fitness at iteration 1000 -797.614253941\n",
      "fitness at iteration 1100 -721.587177388\n",
      "fitness at iteration 1200 -654.698421656\n",
      "fitness at iteration 1300 -626.756546326\n",
      "fitness at iteration 1400 -588.103750242\n",
      "fitness at iteration 1500 -515.337515896\n",
      "fitness at iteration 1600 -476.77271097\n",
      "fitness at iteration 1700 -405.8241054\n",
      "fitness at iteration 1800 -376.054801064\n",
      "fitness at iteration 1900 -351.268683967\n",
      "fitness at iteration 2000 -327.414122797\n",
      "fitness at iteration 2100 -293.677266891\n",
      "fitness at iteration 2200 -282.148910382\n",
      "fitness at iteration 2300 -251.378116918\n",
      "fitness at iteration 2400 -244.029768007\n",
      "fitness at iteration 2500 -217.547069954\n",
      "fitness at iteration 2600 -211.001197639\n",
      "fitness at iteration 2700 -198.57375004\n",
      "fitness at iteration 2800 -193.870712966\n",
      "fitness at iteration 2900 -189.966366147\n",
      "fitness at iteration 3000 -184.559791821\n",
      "fitness at iteration 3100 -178.434189963\n",
      "fitness at iteration 3200 -177.121079173\n",
      "fitness at iteration 3300 -172.77955777\n",
      "fitness at iteration 3400 -169.092147595\n",
      "fitness at iteration 3500 -168.508687514\n",
      "fitness at iteration 3600 -166.91151829\n",
      "fitness at iteration 3700 -164.701194779\n",
      "fitness at iteration 3800 -164.278514256\n",
      "fitness at iteration 3900 -163.792434205\n",
      "fitness at iteration 4000 -162.775219097\n",
      "local optimum discovered by solver:\n",
      " [ 10.97672509   9.99450072  10.01229443  10.98084311  11.99732787\n",
      "   9.99165997   9.01100864   8.00388958  10.00066367  11.9825391\n",
      "   9.98526607   9.97856286  10.98530549   9.98037197  10.0034753\n",
      "   9.00147727  10.00885316  10.96998115   8.01378946   8.01954088\n",
      "  11.01152498   8.99183882  10.00503022  10.99640128   8.03010486\n",
      "   9.98853839  10.01487612   9.99790571   9.98735097  10.98771468\n",
      "   9.00320488  11.97548268   8.00068976   8.98203378   8.00878006\n",
      "   9.01794576   8.01503657  10.99911461   9.02026417  11.00321313\n",
      "   8.99948125  11.01421686  10.04155664   8.98371565  10.01549771\n",
      "  10.00357877  12.9858397    8.01141082   8.98751366   7.0015745\n",
      "  10.00014372   8.99374037  11.0195508    9.9998437    8.00542152\n",
      "  10.01256026   9.98510566  10.01246651   9.99142455  10.01258364\n",
      "  10.98714778   8.01499142   9.99883081  10.96514086  11.99265527\n",
      "   8.99812563   9.01776565   8.99779376  10.00613626   9.98654185\n",
      "   8.98783937   9.00291737  10.01511231  10.976475     7.02339543\n",
      "   9.03420956  12.97164085   9.96914034   8.00342471  10.98319757\n",
      "  10.00786304   8.01192057   9.00796048   8.03361722  10.02784622\n",
      "   9.0214906    9.00041672  10.99610603  10.0017115   10.99841305\n",
      "   7.99971194  10.98709663  10.02068818   8.01339088   9.98087992\n",
      "   8.01767784   8.99116741   8.00887198  10.99415526   9.99633568]\n",
      "fitness score at this local optimum: -162.775219097\n"
     ]
    }
   ],
   "source": [
    "ga_history = test_solver(ga)"
   ]
  },
  {
   "cell_type": "code",
   "execution_count": 9,
   "metadata": {},
   "outputs": [
    {
     "name": "stdout",
     "output_type": "stream",
     "text": [
      "(50_w,101)-aCMA-ES (mu_w=27.2,w_1=8%) in dimension 100 (seed=234125, Tue Sep  4 18:07:01 2018)\n"
     ]
    }
   ],
   "source": [
    "# defines CMA-ES algorithm solver\n",
    "cmaes = CMAES(NPARAMS,\n",
    "              popsize=NPOPULATION,\n",
    "              weight_decay=0.0,\n",
    "              sigma_init = 0.5\n",
    "          )"
   ]
  },
  {
   "cell_type": "code",
   "execution_count": 10,
   "metadata": {},
   "outputs": [
    {
     "name": "stdout",
     "output_type": "stream",
     "text": [
      "fitness at iteration 100 -992.8697680170322\n",
      "fitness at iteration 200 -855.8365206423846\n",
      "fitness at iteration 300 -783.3718976444816\n",
      "fitness at iteration 400 -313.025161688519\n",
      "fitness at iteration 500 -42.050337808791596\n",
      "fitness at iteration 600 -41.78846503773707\n",
      "fitness at iteration 700 -41.788275430231806\n",
      "fitness at iteration 800 -41.78827536015649\n",
      "fitness at iteration 900 -41.788275360099306\n",
      "fitness at iteration 1000 -41.788275360099306\n",
      "fitness at iteration 1100 -41.788275360099306\n",
      "fitness at iteration 1200 -41.788275360099306\n",
      "fitness at iteration 1300 -41.788275360099306\n",
      "fitness at iteration 1400 -41.788275360099306\n",
      "fitness at iteration 1500 -41.788275360099306\n",
      "fitness at iteration 1600 -41.788275360099306\n",
      "fitness at iteration 1700 -41.788275360099306\n",
      "fitness at iteration 1800 -41.788275360099306\n",
      "fitness at iteration 1900 -41.788275360099306\n",
      "fitness at iteration 2000 -41.788275360099306\n",
      "fitness at iteration 2100 -41.788275360099306\n",
      "fitness at iteration 2200 -41.788275360099306\n",
      "fitness at iteration 2300 -41.788275360099306\n",
      "fitness at iteration 2400 -41.788275360099306\n",
      "fitness at iteration 2500 -41.788275360099306\n",
      "fitness at iteration 2600 -41.788275360099306\n",
      "fitness at iteration 2700 -41.788275360099306\n",
      "fitness at iteration 2800 -41.788275360099306\n",
      "fitness at iteration 2900 -41.788275360099306\n",
      "fitness at iteration 3000 -41.788275360099306\n",
      "fitness at iteration 3100 -41.788275360099306\n",
      "fitness at iteration 3200 -41.788275360099306\n",
      "fitness at iteration 3300 -41.788275360099306\n",
      "fitness at iteration 3400 -41.788275360099306\n",
      "fitness at iteration 3500 -41.788275360099306\n",
      "fitness at iteration 3600 -41.788275360099306\n",
      "fitness at iteration 3700 -41.788275360099306\n",
      "fitness at iteration 3800 -41.788275360099306\n",
      "fitness at iteration 3900 -41.788275360099306\n",
      "fitness at iteration 4000 -41.788275360099306\n",
      "local optimum discovered by solver:\n",
      " [ 10.           9.00504136  10.           9.00504136   9.00504137\n",
      "   9.00504136  10.          10.99495864  10.           9.00504136\n",
      "  10.00000001  10.99495865   9.00504136  10.          10.          10.          10.\n",
      "   9.00504136  10.99495863  10.          10.99495863  10.          10.00000001\n",
      "  10.00000001   8.01008777  10.           9.00504137  10.           9.99999999\n",
      "  10.          10.00000001   9.99999999  10.           9.00504137  10.\n",
      "   9.00504136   9.00504136  10.00000001  10.99495863  10.99495864\n",
      "   9.00504136  10.          10.00000001   9.99999999   9.00504137\n",
      "   9.99999999  10.          10.           9.00504136  10.99495864\n",
      "  10.99495863  10.           9.99999999  10.          10.          10.\n",
      "   9.00504136  10.99495864  10.00000001  10.           9.00504137  10.\n",
      "  10.99495864  10.99495864  10.00000001  10.99495863   9.00504135  10.\n",
      "   9.99999999  10.          10.          10.99495864  10.99495865\n",
      "   9.00504136  10.          10.           9.99999999  10.           9.99999999\n",
      "  10.00000001  10.00000001  10.           9.00504136   9.99999999\n",
      "  10.99495863  10.          10.99495863  10.99495864  10.00000001\n",
      "   9.00504136  10.00000001  10.          10.          10.           9.00504136\n",
      "  10.          10.           9.99999999  10.          10.00000002]\n",
      "fitness score at this local optimum: -41.788275360099306\n"
     ]
    }
   ],
   "source": [
    "cma_history = test_solver(cmaes)"
   ]
  },
  {
   "cell_type": "code",
   "execution_count": 11,
   "metadata": {},
   "outputs": [],
   "source": [
    "# defines PEPG (NES) solver\n",
    "pepg = PEPG(NPARAMS,                         # number of model parameters\n",
    "            sigma_init=0.5,                  # initial standard deviation\n",
    "            learning_rate=0.1,               # learning rate for standard deviation\n",
    "            learning_rate_decay=1.0,       # don't anneal the learning rate\n",
    "            popsize=NPOPULATION,             # population size\n",
    "            average_baseline=False,          # set baseline to average of batch\n",
    "            weight_decay=0.00,            # weight decay coefficient\n",
    "            rank_fitness=False,           # use rank rather than fitness numbers\n",
    "            forget_best=False)            # don't keep the historical best solution)"
   ]
  },
  {
   "cell_type": "code",
   "execution_count": 12,
   "metadata": {},
   "outputs": [
    {
     "name": "stdout",
     "output_type": "stream",
     "text": [
      "fitness at iteration 100 -3634.61752301\n",
      "fitness at iteration 200 -1341.36432923\n",
      "fitness at iteration 300 -984.891975596\n",
      "fitness at iteration 400 -820.140411991\n",
      "fitness at iteration 500 -630.913844661\n",
      "fitness at iteration 600 -462.167795841\n",
      "fitness at iteration 700 -403.452034725\n",
      "fitness at iteration 800 -319.551110879\n",
      "fitness at iteration 900 -219.408990937\n",
      "fitness at iteration 1000 -207.067627133\n",
      "fitness at iteration 1100 -201.696733769\n",
      "fitness at iteration 1200 -165.567121035\n",
      "fitness at iteration 1300 -152.353599613\n",
      "fitness at iteration 1400 -144.409940202\n",
      "fitness at iteration 1500 -140.03668276\n",
      "fitness at iteration 1600 -136.413788473\n",
      "fitness at iteration 1700 -134.440263492\n",
      "fitness at iteration 1800 -133.462306314\n",
      "fitness at iteration 1900 -131.932555482\n",
      "fitness at iteration 2000 -131.619768809\n",
      "fitness at iteration 2100 -130.921828364\n",
      "fitness at iteration 2200 -130.921828364\n",
      "fitness at iteration 2300 -129.964253508\n",
      "fitness at iteration 2400 -129.683166947\n",
      "fitness at iteration 2500 -129.424069963\n",
      "fitness at iteration 2600 -129.251329282\n",
      "fitness at iteration 2700 -129.251329282\n",
      "fitness at iteration 2800 -129.077562363\n",
      "fitness at iteration 2900 -128.85565274\n",
      "fitness at iteration 3000 -128.82250865\n",
      "fitness at iteration 3100 -128.82250865\n",
      "fitness at iteration 3200 -128.82250865\n",
      "fitness at iteration 3300 -128.82250865\n",
      "fitness at iteration 3400 -128.82250865\n",
      "fitness at iteration 3500 -128.354664319\n",
      "fitness at iteration 3600 -128.059813352\n",
      "fitness at iteration 3700 -127.970780694\n",
      "fitness at iteration 3800 -127.95519121\n",
      "fitness at iteration 3900 -127.936529492\n",
      "fitness at iteration 4000 -127.903155474\n",
      "local optimum discovered by solver:\n",
      " [ 10.01961473  10.00384561   8.99603969  10.00376039  10.00202244\n",
      "  10.98965524  10.99056633  11.98453385  10.99028118   9.99710707\n",
      "   9.00665572  10.99628287   9.9987487    9.99418439  10.01378318\n",
      "  10.99918179  10.99739287  11.9763445    9.98129826   9.01064205\n",
      "   9.99918261  10.9905115   10.99716731  10.99215052   8.95031247\n",
      "  10.00513128   8.01056788  10.00526991  10.99336915  11.99245762\n",
      "   8.99664358  10.99589626  10.99752655  12.98180671   9.99886669\n",
      "  11.98638826  11.0040743    9.00522993  11.98876187  11.98827291\n",
      "  11.00065362   9.00298452   9.99843922  11.98387404   9.01123762\n",
      "  10.00400764  10.99387755  10.99074414   9.99254525   9.99552831\n",
      "  10.98626598   9.9959352   10.99966687  10.98732211  11.01700644\n",
      "  11.98498094   8.01701287   8.99417894  10.00038439   9.99978239\n",
      "  11.00482054  10.99051431  10.00028136   8.01588162  10.9897487\n",
      "  10.00112807   8.98334035  12.99419065   9.01039287   9.99622875\n",
      "  10.00279622  11.98657915  10.99825347  10.00117812   9.9985847\n",
      "  11.99224988   9.99847225  10.00560234   9.99973099  10.00844029\n",
      "  10.00553205   9.99582849   9.99451903  10.99497116  10.99004273\n",
      "  11.99128624  10.98286678  10.99461444  10.01648052  10.98055134\n",
      "  11.99104532   9.99960975  10.00290433   9.99892735  12.00398291\n",
      "  10.00305775  10.99785973  11.98693747   9.99910614   9.98826357]\n",
      "fitness score at this local optimum: -127.903155474\n"
     ]
    }
   ],
   "source": [
    "pepg_history = test_solver(pepg)"
   ]
  },
  {
   "cell_type": "code",
   "execution_count": 13,
   "metadata": {},
   "outputs": [],
   "source": [
    "# defines OpenAI's ES algorithm solver. Note that we needed to anneal the sigma parameter\n",
    "oes = OpenES(NPARAMS,                  # number of model parameters\n",
    "            sigma_init=0.5,            # initial standard deviation\n",
    "            sigma_decay=0.999,         # don't anneal standard deviation\n",
    "            learning_rate=0.1,         # learning rate for standard deviation\n",
    "            learning_rate_decay = 1.0, # annealing the learning rate\n",
    "            popsize=NPOPULATION,       # population size\n",
    "            antithetic=False,          # whether to use antithetic sampling\n",
    "            weight_decay=0.00,         # weight decay coefficient\n",
    "            rank_fitness=False,        # use rank rather than fitness numbers\n",
    "            forget_best=False)"
   ]
  },
  {
   "cell_type": "code",
   "execution_count": 14,
   "metadata": {},
   "outputs": [
    {
     "name": "stdout",
     "output_type": "stream",
     "text": [
      "fitness at iteration 100 -2547.72753072\n",
      "fitness at iteration 200 -837.308947128\n",
      "fitness at iteration 300 -795.150652289\n",
      "fitness at iteration 400 -795.150652289\n",
      "fitness at iteration 500 -795.150652289\n",
      "fitness at iteration 600 -725.37344417\n",
      "fitness at iteration 700 -651.22994325\n",
      "fitness at iteration 800 -615.048148284\n",
      "fitness at iteration 900 -555.995472926\n",
      "fitness at iteration 1000 -494.296291472\n",
      "fitness at iteration 1100 -427.11601359\n",
      "fitness at iteration 1200 -385.325115707\n",
      "fitness at iteration 1300 -363.263045154\n",
      "fitness at iteration 1400 -296.737702306\n",
      "fitness at iteration 1500 -296.737702306\n",
      "fitness at iteration 1600 -296.737702306\n",
      "fitness at iteration 1700 -268.211850956\n",
      "fitness at iteration 1800 -228.436063113\n",
      "fitness at iteration 1900 -228.436063113\n",
      "fitness at iteration 2000 -198.152382653\n",
      "fitness at iteration 2100 -188.20569125\n",
      "fitness at iteration 2200 -177.675502216\n",
      "fitness at iteration 2300 -177.675502216\n",
      "fitness at iteration 2400 -175.776811507\n",
      "fitness at iteration 2500 -163.618514907\n",
      "fitness at iteration 2600 -157.053733385\n",
      "fitness at iteration 2700 -143.880760633\n",
      "fitness at iteration 2800 -143.721770211\n",
      "fitness at iteration 2900 -143.721770211\n",
      "fitness at iteration 3000 -136.063215595\n",
      "fitness at iteration 3100 -132.834987971\n",
      "fitness at iteration 3200 -132.834987971\n",
      "fitness at iteration 3300 -132.834987971\n",
      "fitness at iteration 3400 -132.834987971\n",
      "fitness at iteration 3500 -132.834987971\n",
      "fitness at iteration 3600 -132.834987971\n",
      "fitness at iteration 3700 -132.834987971\n",
      "fitness at iteration 3800 -132.834987971\n",
      "fitness at iteration 3900 -119.073762315\n",
      "fitness at iteration 4000 -119.073762315\n",
      "local optimum discovered by solver:\n",
      " [  9.96222399  10.03581485   9.98721106  10.9794934   11.03020663\n",
      "  10.96076394  11.00446454  11.00247883  10.98392224  10.94027612\n",
      "  10.0504529   10.97830386   9.0312129    9.92128733   8.92664915\n",
      "  10.00189549   8.95754956  10.99974551   9.97280674   9.98013623\n",
      "  10.94491159   8.94378391  10.07967037  10.97622273  10.97014864\n",
      "   8.98547047  10.00366378  11.03164668  12.03111177  10.95637449\n",
      "  10.98361494  10.9748333   11.09157689  10.04065297  11.00006433\n",
      "  10.05198133  10.99228515   9.97397095   9.11027833  12.96501191\n",
      "   9.99265986   9.00709144  10.0509037   10.01431034   9.940433\n",
      "  10.97644353  10.01497257  11.92533512   9.99708173   9.12054999\n",
      "  10.992724    11.00459189  10.01703682  12.02695887   8.00249103\n",
      "  10.00167295  11.03613397  10.9779862   10.00749282  10.98325682\n",
      "  11.05239174  10.00549102  11.9927345    9.00513705  10.00676037\n",
      "   9.97190821  10.98698358   9.00707313   9.9436845   10.99244854\n",
      "  10.00464128  10.97691325   9.98609334  10.04023315  10.01552519\n",
      "  10.96793756  13.0317341    8.96804311   9.96510546  10.00518361\n",
      "  10.93546217  11.00502035  10.06336554   9.9907779   10.05001362\n",
      "  10.98710824   9.01820945   8.9904683    9.05672193   9.99382182\n",
      "  11.06678637  10.9756182    9.94234177  10.95908423   9.97904453\n",
      "   9.9734558    9.94889348  10.97144241  10.96124909   9.0287699 ]\n",
      "fitness score at this local optimum: -119.073762315\n"
     ]
    }
   ],
   "source": [
    "oes_history = test_solver(oes)"
   ]
  },
  {
   "cell_type": "code",
   "execution_count": 15,
   "metadata": {},
   "outputs": [],
   "source": [
    "# defines OpenAI's ES algorithm solver. Note that we needed to anneal the sigma parameter\n",
    "# this version turns on antithetic sampling. It doesn't really help, and sometimes hurts performance.\n",
    "oes_antithetic = OpenES(NPARAMS,            # number of model parameters\n",
    "                 sigma_init=0.5,            # initial standard deviation\n",
    "                 sigma_decay=0.999,         # don't anneal standard deviation\n",
    "                 learning_rate=0.1,         # learning rate for standard deviation\n",
    "                 learning_rate_decay=1.0,   # annealing the learning rate\n",
    "                 popsize=NPOPULATION+1,     # population size\n",
    "                 antithetic=True,           # whether to use antithetic sampling\n",
    "                 weight_decay=0.00,         # weight decay coefficient\n",
    "                 rank_fitness=False,        # use rank rather than fitness numbers\n",
    "                 forget_best=False)"
   ]
  },
  {
   "cell_type": "code",
   "execution_count": 16,
   "metadata": {},
   "outputs": [
    {
     "name": "stdout",
     "output_type": "stream",
     "text": [
      "fitness at iteration 100 -3249.4558748\n",
      "fitness at iteration 200 -905.683279874\n",
      "fitness at iteration 300 -782.282701518\n",
      "fitness at iteration 400 -782.282701518\n",
      "fitness at iteration 500 -782.282701518\n",
      "fitness at iteration 600 -752.944311414\n",
      "fitness at iteration 700 -681.00298853\n",
      "fitness at iteration 800 -629.418122969\n",
      "fitness at iteration 900 -571.037612384\n",
      "fitness at iteration 1000 -506.852114247\n",
      "fitness at iteration 1100 -440.331013572\n",
      "fitness at iteration 1200 -380.178757215\n",
      "fitness at iteration 1300 -335.373179856\n",
      "fitness at iteration 1400 -335.373179856\n",
      "fitness at iteration 1500 -319.827206653\n",
      "fitness at iteration 1600 -300.108061502\n",
      "fitness at iteration 1700 -290.415921385\n",
      "fitness at iteration 1800 -235.871192792\n",
      "fitness at iteration 1900 -207.680078014\n",
      "fitness at iteration 2000 -207.680078014\n",
      "fitness at iteration 2100 -207.680078014\n",
      "fitness at iteration 2200 -207.680078014\n",
      "fitness at iteration 2300 -207.680078014\n",
      "fitness at iteration 2400 -207.680078014\n",
      "fitness at iteration 2500 -206.826183977\n",
      "fitness at iteration 2600 -194.751620165\n",
      "fitness at iteration 2700 -194.751620165\n",
      "fitness at iteration 2800 -194.751620165\n",
      "fitness at iteration 2900 -194.751620165\n",
      "fitness at iteration 3000 -184.163308157\n",
      "fitness at iteration 3100 -184.163308157\n",
      "fitness at iteration 3200 -184.163308157\n",
      "fitness at iteration 3300 -183.48751021\n",
      "fitness at iteration 3400 -174.345761059\n",
      "fitness at iteration 3500 -174.345761059\n",
      "fitness at iteration 3600 -174.345761059\n",
      "fitness at iteration 3700 -174.345761059\n",
      "fitness at iteration 3800 -174.345761059\n",
      "fitness at iteration 3900 -174.345761059\n",
      "fitness at iteration 4000 -174.345761059\n",
      "local optimum discovered by solver:\n",
      " [ 11.11888794  11.11738517  11.05755268  10.97955645  10.01730772\n",
      "   8.99037223  10.05631989  11.93023509  10.01683307  10.90354934\n",
      "   9.04082188   8.94886975   9.10047183   9.97122681  10.11512472\n",
      "   9.91322231   9.93481562  10.09862652   9.89323582  11.04935905\n",
      "   9.96734987  11.01444488  10.98531918  10.06688134  11.14169528\n",
      "  10.02138664   9.97270597  10.99687272  10.06114293   9.99064074\n",
      "  10.03533774  10.96545774  10.07952058  11.02385502  10.94115267\n",
      "  11.04676738  12.05077682  11.01796634  11.95468163   9.94293649\n",
      "   9.07971396   9.87962282   9.93819201  10.00743849  11.06174766\n",
      "  10.86197627  10.12220057  10.00278321   9.94279514   9.95592564\n",
      "  10.06193083  11.94087051  11.06637086  10.91863424  10.92866464\n",
      "  10.00300299  12.02358086   8.92083608  11.03192709   9.96456953\n",
      "  11.94505205  11.04076089   8.93660681  11.03771843  10.9731474\n",
      "  11.98934571  10.91490246  11.04677918   8.96246687   9.99570488\n",
      "  10.96014829  10.06468044   8.95612409  10.02019367  10.97810255\n",
      "  11.97961555  10.87702715  12.04049814  10.01191171   9.96356814\n",
      "   9.97247573   9.06371765  11.07953805  10.86567807  11.0254814\n",
      "  10.94385121  10.99931823  11.01254205   9.09950367  12.02094477\n",
      "   8.97796135  11.85216809  10.99209484  10.02231263  11.09378876\n",
      "   9.04402783   9.98980739  10.96810385   9.98329216  11.92838249]\n",
      "fitness score at this local optimum: -174.345761059\n"
     ]
    }
   ],
   "source": [
    "oes_antithetic_history = test_solver(oes_antithetic)"
   ]
  },
  {
   "cell_type": "code",
   "execution_count": 17,
   "metadata": {},
   "outputs": [
    {
     "data": {
      "image/png": "[encoded data removed]",
      "text/plain": [
       "<matplotlib.figure.Figure at 0x10f210ba8>"
      ]
     },
     "metadata": {},
     "output_type": "display_data"
    }
   ],
   "source": [
    "# Create a new figure of size 8x6 points, using 100 dots per inch\n",
    "best_history = [0] * MAX_ITERATION\n",
    "plt.figure(figsize=(16,8), dpi=150)\n",
    "\n",
    "optimum_line, = plt.plot(best_history, color=\"black\", linewidth=0.5, linestyle=\"-.\", label='Global Optimum')\n",
    "ga_line, = plt.plot(ga_history, color=\"green\", linewidth=1.0, linestyle=\"-\", label='GA')\n",
    "oes_line, = plt.plot(oes_history, color=\"orange\", linewidth=1.0, linestyle=\"-\", label='OpenAI-ES')\n",
    "pepg_line, = plt.plot(pepg_history, color=\"blue\", linewidth=1.0, linestyle=\"-\", label='PEPG / NES')\n",
    "cma_line, = plt.plot(cma_history, color=\"red\", linewidth=1.0, linestyle=\"-\", label='CMA-ES')\n",
    "\n",
    "plt.legend(handles=[optimum_line, ga_line, cma_line, pepg_line, oes_line], loc=4)\n",
    "\n",
    "# Set x limits\n",
    "plt.xlim(0,2500)\n",
    "\n",
    "plt.xlabel('generation')\n",
    "plt.ylabel('fitness')\n",
    "\n",
    "# plt.savefig(\"./rastrigin_10d.svg\")\n",
    "\n",
    "plt.show()"
   ]
  },
  {
   "cell_type": "code",
   "execution_count": null,
   "metadata": {},
   "outputs": [],
   "source": []
  }
 ],
 "metadata": {
  "kernelspec": {
   "display_name": "Python 3",
   "language": "python",
   "name": "python3"
  },
  "language_info": {
   "codemirror_mode": {
    "name": "ipython",
    "version": 3
   },
   "file_extension": ".py",
   "mimetype": "text/x-python",
   "name": "python",
   "nbconvert_exporter": "python",
   "pygments_lexer": "ipython3",
   "version": "3.6.5"
  },
  "toc": {
   "base_numbering": 1,
   "nav_menu": {},
   "number_sections": true,
   "sideBar": true,
   "skip_h1_title": false,
   "title_cell": "Table of Contents",
   "title_sidebar": "Contents",
   "toc_cell": false,
   "toc_position": {},
   "toc_section_display": true,
   "toc_window_display": false
  }
 },
 "nbformat": 4,
 "nbformat_minor": 2
}
